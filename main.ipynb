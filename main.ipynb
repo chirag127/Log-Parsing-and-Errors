{
 "cells": [
  {
   "cell_type": "code",
   "execution_count": 1,
   "metadata": {},
   "outputs": [
    {
     "name": "stdout",
     "output_type": "stream",
     "text": [
      "Requirement already satisfied: scikit-learn in /home/codespace/.local/lib/python3.10/site-packages (1.3.0)\n",
      "Requirement already satisfied: joblib in /home/codespace/.local/lib/python3.10/site-packages (1.3.2)\n",
      "Requirement already satisfied: numpy>=1.17.3 in /home/codespace/.local/lib/python3.10/site-packages (from scikit-learn) (1.25.2)\n",
      "Requirement already satisfied: scipy>=1.5.0 in /home/codespace/.local/lib/python3.10/site-packages (from scikit-learn) (1.11.2)\n",
      "Requirement already satisfied: threadpoolctl>=2.0.0 in /home/codespace/.local/lib/python3.10/site-packages (from scikit-learn) (3.2.0)\n",
      "Note: you may need to restart the kernel to use updated packages.\n"
     ]
    }
   ],
   "source": [
    "pip install scikit-learn joblib\n"
   ]
  },
  {
   "cell_type": "code",
   "execution_count": 3,
   "metadata": {},
   "outputs": [
    {
     "name": "stderr",
     "output_type": "stream",
     "text": [
      "/home/codespace/.local/lib/python3.10/site-packages/sklearn/cluster/_kmeans.py:1412: FutureWarning: The default value of `n_init` will change from 10 to 'auto' in 1.4. Set the value of `n_init` explicitly to suppress the warning\n",
      "  super()._check_params_vs_input(X, default_n_init=10)\n"
     ]
    },
    {
     "name": "stdout",
     "output_type": "stream",
     "text": [
      "Predicted Log Patterns:\n",
      "Message: An error occurred in module A, Pattern: 7\n",
      "Message: Server restarted successfully, Pattern: 7\n"
     ]
    }
   ],
   "source": [
    "import pandas as pd\n",
    "from sklearn.feature_extraction.text import TfidfVectorizer\n",
    "from sklearn.cluster import KMeans\n",
    "import joblib\n",
    "\n",
    "# Load log data into a DataFrame\n",
    "log_data = pd.read_csv('/workspaces/Log-Parsing-and-Errors/error.csv')\n",
    "\n",
    "# Preprocess log messages\n",
    "# This step involves data cleaning, tokenization, and vectorization\n",
    "\n",
    "# Vectorize log messages using TF-IDF\n",
    "vectorizer = TfidfVectorizer(max_features=500, stop_words='english')\n",
    "log_vectors = vectorizer.fit_transform(log_data['_raw'])\n",
    "\n",
    "# Train a clustering model (K-Means) to identify log patterns\n",
    "kmeans = KMeans(n_clusters=10)\n",
    "kmeans.fit(log_vectors)\n",
    "\n",
    "# Save the model for future use\n",
    "joblib.dump(kmeans, 'log_pattern_model.pkl')\n",
    "\n",
    "# Predict log patterns for new log messages\n",
    "new_log_messages = [\"An error occurred in module A\", \"Server restarted successfully\"]\n",
    "new_log_vectors = vectorizer.transform(new_log_messages)\n",
    "predicted_patterns = kmeans.predict(new_log_vectors)\n",
    "\n",
    "print(\"Predicted Log Patterns:\")\n",
    "for message, pattern in zip(new_log_messages, predicted_patterns):\n",
    "    print(f\"Message: {message}, Pattern: {pattern}\")\n"
   ]
  }
 ],
 "metadata": {
  "kernelspec": {
   "display_name": "Python 3",
   "language": "python",
   "name": "python3"
  },
  "language_info": {
   "codemirror_mode": {
    "name": "ipython",
    "version": 3
   },
   "file_extension": ".py",
   "mimetype": "text/x-python",
   "name": "python",
   "nbconvert_exporter": "python",
   "pygments_lexer": "ipython3",
   "version": "3.10.8"
  },
  "orig_nbformat": 4
 },
 "nbformat": 4,
 "nbformat_minor": 2
}
